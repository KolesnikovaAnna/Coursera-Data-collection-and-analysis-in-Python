{
 "cells": [
  {
   "cell_type": "markdown",
   "metadata": {
    "deletable": false,
    "editable": false,
    "nbgrader": {
     "cell_type": "markdown",
     "checksum": "3936323d616d606c98f328b88ef0c68a",
     "grade": false,
     "grade_id": "cell-6ce131809c7e5137",
     "locked": true,
     "schema_version": 3,
     "solution": false,
     "task": false
    }
   },
   "source": [
    "<center>\n",
    "<img src=\"logo.png\" height=\"900\"> \n",
    "</center>\n",
    "\n",
    "\n",
    "#  Акции\n",
    "\n",
    "В этом задании мы немного поработаем с ценами на акции. "
   ]
  },
  {
   "cell_type": "code",
   "execution_count": 1,
   "metadata": {},
   "outputs": [],
   "source": [
    "import numpy as np\n",
    "import pandas as pd\n",
    "\n",
    "import scipy.stats as sts\n",
    "import matplotlib.pyplot as plt\n",
    "import seaborn as sns\n",
    "\n",
    "plt.style.use('ggplot')  # стиль для графиков\n",
    "%matplotlib inline"
   ]
  },
  {
   "cell_type": "markdown",
   "metadata": {},
   "source": [
    "В табличке `prices.tsv` лежат данные о том как менялась цена на акции из индексов [S&P-500](https://ru.wikipedia.org/wiki/S%26P_500), [NASDAQ-100](https://ru.wikipedia.org/wiki/Nasdaq-100) и [DJI](https://ru.wikipedia.org/wiki/Промышленный_индекс_Доу_—_Джонса) в течение последних $10$ лет. В табличке `information.tsv` лежит дополнительная полезная информация по каждой из ценных бумаг.  Подгрузим эти таблицы и посмотрим на них. "
   ]
  },
  {
   "cell_type": "code",
   "execution_count": 2,
   "metadata": {},
   "outputs": [
    {
     "data": {
      "text/html": [
       "<div>\n",
       "<style scoped>\n",
       "    .dataframe tbody tr th:only-of-type {\n",
       "        vertical-align: middle;\n",
       "    }\n",
       "\n",
       "    .dataframe tbody tr th {\n",
       "        vertical-align: top;\n",
       "    }\n",
       "\n",
       "    .dataframe thead th {\n",
       "        text-align: right;\n",
       "    }\n",
       "</style>\n",
       "<table border=\"1\" class=\"dataframe\">\n",
       "  <thead>\n",
       "    <tr style=\"text-align: right;\">\n",
       "      <th></th>\n",
       "      <th>A</th>\n",
       "      <th>AAL</th>\n",
       "      <th>AAP</th>\n",
       "      <th>AAPL</th>\n",
       "      <th>ABBV</th>\n",
       "      <th>ABC</th>\n",
       "      <th>ABMD</th>\n",
       "      <th>ABT</th>\n",
       "      <th>ACN</th>\n",
       "      <th>ADBE</th>\n",
       "      <th>...</th>\n",
       "      <th>XOM</th>\n",
       "      <th>XRAY</th>\n",
       "      <th>XRX</th>\n",
       "      <th>XYL</th>\n",
       "      <th>YUM</th>\n",
       "      <th>ZBH</th>\n",
       "      <th>ZBRA</th>\n",
       "      <th>ZION</th>\n",
       "      <th>ZM</th>\n",
       "      <th>ZTS</th>\n",
       "    </tr>\n",
       "    <tr>\n",
       "      <th>Date</th>\n",
       "      <th></th>\n",
       "      <th></th>\n",
       "      <th></th>\n",
       "      <th></th>\n",
       "      <th></th>\n",
       "      <th></th>\n",
       "      <th></th>\n",
       "      <th></th>\n",
       "      <th></th>\n",
       "      <th></th>\n",
       "      <th></th>\n",
       "      <th></th>\n",
       "      <th></th>\n",
       "      <th></th>\n",
       "      <th></th>\n",
       "      <th></th>\n",
       "      <th></th>\n",
       "      <th></th>\n",
       "      <th></th>\n",
       "      <th></th>\n",
       "      <th></th>\n",
       "    </tr>\n",
       "  </thead>\n",
       "  <tbody>\n",
       "    <tr>\n",
       "      <th>2010-08-02</th>\n",
       "      <td>18.982769</td>\n",
       "      <td>10.030768</td>\n",
       "      <td>51.945328</td>\n",
       "      <td>32.324974</td>\n",
       "      <td>NaN</td>\n",
       "      <td>26.103115</td>\n",
       "      <td>11.17</td>\n",
       "      <td>17.431229</td>\n",
       "      <td>32.489162</td>\n",
       "      <td>29.600000</td>\n",
       "      <td>...</td>\n",
       "      <td>43.086357</td>\n",
       "      <td>28.942909</td>\n",
       "      <td>21.664534</td>\n",
       "      <td>NaN</td>\n",
       "      <td>24.980757</td>\n",
       "      <td>49.945686</td>\n",
       "      <td>27.59</td>\n",
       "      <td>20.329309</td>\n",
       "      <td>NaN</td>\n",
       "      <td>NaN</td>\n",
       "    </tr>\n",
       "    <tr>\n",
       "      <th>2010-08-03</th>\n",
       "      <td>18.337280</td>\n",
       "      <td>10.049624</td>\n",
       "      <td>51.148121</td>\n",
       "      <td>32.334858</td>\n",
       "      <td>NaN</td>\n",
       "      <td>25.590956</td>\n",
       "      <td>10.97</td>\n",
       "      <td>17.490696</td>\n",
       "      <td>32.223312</td>\n",
       "      <td>29.120001</td>\n",
       "      <td>...</td>\n",
       "      <td>43.628933</td>\n",
       "      <td>29.177372</td>\n",
       "      <td>21.289482</td>\n",
       "      <td>NaN</td>\n",
       "      <td>24.594522</td>\n",
       "      <td>50.279709</td>\n",
       "      <td>27.40</td>\n",
       "      <td>20.080635</td>\n",
       "      <td>NaN</td>\n",
       "      <td>NaN</td>\n",
       "    </tr>\n",
       "    <tr>\n",
       "      <th>2010-08-04</th>\n",
       "      <td>18.633682</td>\n",
       "      <td>9.455699</td>\n",
       "      <td>51.877274</td>\n",
       "      <td>32.464500</td>\n",
       "      <td>NaN</td>\n",
       "      <td>25.915325</td>\n",
       "      <td>10.50</td>\n",
       "      <td>17.553665</td>\n",
       "      <td>32.497211</td>\n",
       "      <td>29.700001</td>\n",
       "      <td>...</td>\n",
       "      <td>43.628933</td>\n",
       "      <td>29.674450</td>\n",
       "      <td>21.488039</td>\n",
       "      <td>NaN</td>\n",
       "      <td>24.808437</td>\n",
       "      <td>50.873531</td>\n",
       "      <td>28.09</td>\n",
       "      <td>20.089518</td>\n",
       "      <td>NaN</td>\n",
       "      <td>NaN</td>\n",
       "    </tr>\n",
       "    <tr>\n",
       "      <th>2010-08-05</th>\n",
       "      <td>18.745655</td>\n",
       "      <td>9.088029</td>\n",
       "      <td>52.373096</td>\n",
       "      <td>32.306469</td>\n",
       "      <td>NaN</td>\n",
       "      <td>25.898251</td>\n",
       "      <td>10.26</td>\n",
       "      <td>17.483702</td>\n",
       "      <td>32.199158</td>\n",
       "      <td>29.440001</td>\n",
       "      <td>...</td>\n",
       "      <td>43.621983</td>\n",
       "      <td>29.590042</td>\n",
       "      <td>21.267420</td>\n",
       "      <td>NaN</td>\n",
       "      <td>25.200619</td>\n",
       "      <td>50.567337</td>\n",
       "      <td>30.35</td>\n",
       "      <td>19.636568</td>\n",
       "      <td>NaN</td>\n",
       "      <td>NaN</td>\n",
       "    </tr>\n",
       "    <tr>\n",
       "      <th>2010-08-06</th>\n",
       "      <td>18.923494</td>\n",
       "      <td>8.946616</td>\n",
       "      <td>51.284237</td>\n",
       "      <td>32.107712</td>\n",
       "      <td>NaN</td>\n",
       "      <td>25.812889</td>\n",
       "      <td>9.98</td>\n",
       "      <td>17.690086</td>\n",
       "      <td>32.440819</td>\n",
       "      <td>29.230000</td>\n",
       "      <td>...</td>\n",
       "      <td>43.107220</td>\n",
       "      <td>29.599421</td>\n",
       "      <td>21.157112</td>\n",
       "      <td>NaN</td>\n",
       "      <td>25.170906</td>\n",
       "      <td>50.084862</td>\n",
       "      <td>30.24</td>\n",
       "      <td>19.227848</td>\n",
       "      <td>NaN</td>\n",
       "      <td>NaN</td>\n",
       "    </tr>\n",
       "  </tbody>\n",
       "</table>\n",
       "<p>5 rows × 523 columns</p>\n",
       "</div>"
      ],
      "text/plain": [
       "                    A        AAL        AAP       AAPL  ABBV        ABC  \\\n",
       "Date                                                                      \n",
       "2010-08-02  18.982769  10.030768  51.945328  32.324974   NaN  26.103115   \n",
       "2010-08-03  18.337280  10.049624  51.148121  32.334858   NaN  25.590956   \n",
       "2010-08-04  18.633682   9.455699  51.877274  32.464500   NaN  25.915325   \n",
       "2010-08-05  18.745655   9.088029  52.373096  32.306469   NaN  25.898251   \n",
       "2010-08-06  18.923494   8.946616  51.284237  32.107712   NaN  25.812889   \n",
       "\n",
       "             ABMD        ABT        ACN       ADBE  ...        XOM       XRAY  \\\n",
       "Date                                                ...                         \n",
       "2010-08-02  11.17  17.431229  32.489162  29.600000  ...  43.086357  28.942909   \n",
       "2010-08-03  10.97  17.490696  32.223312  29.120001  ...  43.628933  29.177372   \n",
       "2010-08-04  10.50  17.553665  32.497211  29.700001  ...  43.628933  29.674450   \n",
       "2010-08-05  10.26  17.483702  32.199158  29.440001  ...  43.621983  29.590042   \n",
       "2010-08-06   9.98  17.690086  32.440819  29.230000  ...  43.107220  29.599421   \n",
       "\n",
       "                  XRX  XYL        YUM        ZBH   ZBRA       ZION  ZM  ZTS  \n",
       "Date                                                                         \n",
       "2010-08-02  21.664534  NaN  24.980757  49.945686  27.59  20.329309 NaN  NaN  \n",
       "2010-08-03  21.289482  NaN  24.594522  50.279709  27.40  20.080635 NaN  NaN  \n",
       "2010-08-04  21.488039  NaN  24.808437  50.873531  28.09  20.089518 NaN  NaN  \n",
       "2010-08-05  21.267420  NaN  25.200619  50.567337  30.35  19.636568 NaN  NaN  \n",
       "2010-08-06  21.157112  NaN  25.170906  50.084862  30.24  19.227848 NaN  NaN  \n",
       "\n",
       "[5 rows x 523 columns]"
      ]
     },
     "execution_count": 2,
     "metadata": {},
     "output_type": "execute_result"
    }
   ],
   "source": [
    "df_prices = pd.read_csv('price.tsv', sep='\\t')\n",
    "\n",
    "# сделали дату индексом таблицы и применили это преобразование\n",
    "df_prices.set_index('Date', inplace=True)  \n",
    "df_prices.head()"
   ]
  },
  {
   "cell_type": "code",
   "execution_count": 3,
   "metadata": {},
   "outputs": [
    {
     "data": {
      "text/html": [
       "<div>\n",
       "<style scoped>\n",
       "    .dataframe tbody tr th:only-of-type {\n",
       "        vertical-align: middle;\n",
       "    }\n",
       "\n",
       "    .dataframe tbody tr th {\n",
       "        vertical-align: top;\n",
       "    }\n",
       "\n",
       "    .dataframe thead th {\n",
       "        text-align: right;\n",
       "    }\n",
       "</style>\n",
       "<table border=\"1\" class=\"dataframe\">\n",
       "  <thead>\n",
       "    <tr style=\"text-align: right;\">\n",
       "      <th></th>\n",
       "      <th>Symbol</th>\n",
       "      <th>Security</th>\n",
       "      <th>SEC filings</th>\n",
       "      <th>GICS Sector</th>\n",
       "      <th>GICS Sub Industry</th>\n",
       "      <th>Headquarters Location</th>\n",
       "      <th>Date first added</th>\n",
       "      <th>CIK</th>\n",
       "      <th>Founded</th>\n",
       "      <th>S&amp;P-500</th>\n",
       "      <th>NASDAQ</th>\n",
       "      <th>DJI</th>\n",
       "    </tr>\n",
       "  </thead>\n",
       "  <tbody>\n",
       "    <tr>\n",
       "      <th>0</th>\n",
       "      <td>A</td>\n",
       "      <td>Agilent Technologies Inc</td>\n",
       "      <td>reports</td>\n",
       "      <td>Health Care</td>\n",
       "      <td>Health Care Equipment</td>\n",
       "      <td>Santa Clara, California</td>\n",
       "      <td>05.06.00</td>\n",
       "      <td>1090872.0</td>\n",
       "      <td>1999.0</td>\n",
       "      <td>True</td>\n",
       "      <td>False</td>\n",
       "      <td>False</td>\n",
       "    </tr>\n",
       "    <tr>\n",
       "      <th>1</th>\n",
       "      <td>AAL</td>\n",
       "      <td>American Airlines Group</td>\n",
       "      <td>reports</td>\n",
       "      <td>Industrials</td>\n",
       "      <td>Airlines</td>\n",
       "      <td>Fort Worth, Texas</td>\n",
       "      <td>23.03.15</td>\n",
       "      <td>6201.0</td>\n",
       "      <td>1934.0</td>\n",
       "      <td>True</td>\n",
       "      <td>False</td>\n",
       "      <td>False</td>\n",
       "    </tr>\n",
       "    <tr>\n",
       "      <th>2</th>\n",
       "      <td>AAP</td>\n",
       "      <td>Advance Auto Parts</td>\n",
       "      <td>reports</td>\n",
       "      <td>Consumer Discretionary</td>\n",
       "      <td>Automotive Retail</td>\n",
       "      <td>Raleigh, North Carolina</td>\n",
       "      <td>09.07.15</td>\n",
       "      <td>1158449.0</td>\n",
       "      <td>1932.0</td>\n",
       "      <td>True</td>\n",
       "      <td>False</td>\n",
       "      <td>False</td>\n",
       "    </tr>\n",
       "    <tr>\n",
       "      <th>3</th>\n",
       "      <td>AAPL</td>\n",
       "      <td>Apple Inc.</td>\n",
       "      <td>reports</td>\n",
       "      <td>Information Technology</td>\n",
       "      <td>Technology Hardware, Storage &amp; Peripherals</td>\n",
       "      <td>Cupertino, California</td>\n",
       "      <td>30.11.82</td>\n",
       "      <td>320193.0</td>\n",
       "      <td>1977.0</td>\n",
       "      <td>True</td>\n",
       "      <td>True</td>\n",
       "      <td>True</td>\n",
       "    </tr>\n",
       "    <tr>\n",
       "      <th>4</th>\n",
       "      <td>ABBV</td>\n",
       "      <td>AbbVie Inc.</td>\n",
       "      <td>reports</td>\n",
       "      <td>Health Care</td>\n",
       "      <td>Pharmaceuticals</td>\n",
       "      <td>North Chicago, Illinois</td>\n",
       "      <td>31.12.12</td>\n",
       "      <td>1551152.0</td>\n",
       "      <td>1888.0</td>\n",
       "      <td>True</td>\n",
       "      <td>False</td>\n",
       "      <td>False</td>\n",
       "    </tr>\n",
       "  </tbody>\n",
       "</table>\n",
       "</div>"
      ],
      "text/plain": [
       "  Symbol                  Security SEC filings             GICS Sector  \\\n",
       "0      A  Agilent Technologies Inc     reports             Health Care   \n",
       "1    AAL   American Airlines Group     reports             Industrials   \n",
       "2    AAP        Advance Auto Parts     reports  Consumer Discretionary   \n",
       "3   AAPL                Apple Inc.     reports  Information Technology   \n",
       "4   ABBV               AbbVie Inc.     reports             Health Care   \n",
       "\n",
       "                            GICS Sub Industry    Headquarters Location  \\\n",
       "0                       Health Care Equipment  Santa Clara, California   \n",
       "1                                    Airlines        Fort Worth, Texas   \n",
       "2                           Automotive Retail  Raleigh, North Carolina   \n",
       "3  Technology Hardware, Storage & Peripherals    Cupertino, California   \n",
       "4                             Pharmaceuticals  North Chicago, Illinois   \n",
       "\n",
       "  Date first added        CIK  Founded  S&P-500  NASDAQ    DJI  \n",
       "0         05.06.00  1090872.0   1999.0     True   False  False  \n",
       "1         23.03.15     6201.0   1934.0     True   False  False  \n",
       "2         09.07.15  1158449.0   1932.0     True   False  False  \n",
       "3         30.11.82   320193.0   1977.0     True    True   True  \n",
       "4         31.12.12  1551152.0   1888.0     True   False  False  "
      ]
     },
     "execution_count": 3,
     "metadata": {},
     "output_type": "execute_result"
    }
   ],
   "source": [
    "df_inf = pd.read_csv('information.tsv', sep='\\t')\n",
    "df_inf.head()"
   ]
  },
  {
   "cell_type": "markdown",
   "metadata": {
    "deletable": false,
    "editable": false,
    "nbgrader": {
     "cell_type": "markdown",
     "checksum": "c5f103540e4057ce6d36d0297c0aebd2",
     "grade": false,
     "grade_id": "cell-786705162ed2de43",
     "locked": true,
     "schema_version": 3,
     "solution": false,
     "task": false
    }
   },
   "source": [
    "> Давайте решим пробную задачку, чтобы вы понимали, как устроена система тестирования. \n",
    "\n",
    "В колонках `'S&P-500', 'NASDAQ', 'DJI'` лежит True, если ценная бумага входит в соотвествующий индекс. Сколько ценных бумаг из таблицы входили в индекс NASDAQ? Запишите результат в пременную `n_nasdaq`."
   ]
  },
  {
   "cell_type": "code",
   "execution_count": 4,
   "metadata": {},
   "outputs": [
    {
     "data": {
      "text/plain": [
       "103"
      ]
     },
     "execution_count": 4,
     "metadata": {},
     "output_type": "execute_result"
    }
   ],
   "source": [
    "n_nasdaq = df_inf['NASDAQ'].sum() # каждое True это 1, а False 0\n",
    "n_nasdaq"
   ]
  },
  {
   "cell_type": "markdown",
   "metadata": {},
   "source": [
    "Все ваши расчёты будут тестироваться с помощью вот таких тестов. "
   ]
  },
  {
   "cell_type": "code",
   "execution_count": 5,
   "metadata": {
    "deletable": false,
    "editable": false,
    "nbgrader": {
     "cell_type": "code",
     "checksum": "c3dedfabaf2a801444618a1a4411fe06",
     "grade": true,
     "grade_id": "cell-23947927940b8ab4",
     "locked": true,
     "points": 1,
     "schema_version": 3,
     "solution": false,
     "task": false
    }
   },
   "outputs": [],
   "source": [
    "assert n_nasdaq == 103"
   ]
  },
  {
   "cell_type": "markdown",
   "metadata": {
    "deletable": false,
    "editable": false,
    "nbgrader": {
     "cell_type": "markdown",
     "checksum": "e36b1bea8589c49144071e8b164db3a5",
     "grade": false,
     "grade_id": "cell-3c2510d485668530",
     "locked": true,
     "schema_version": 3,
     "solution": false,
     "task": false
    }
   },
   "source": [
    "Мы положили в переменную `n_nasdaq` число ценных бумаг, как и требовалось в задании. Тесты прошли и всё успешно отработало. Подобные тесты сделаны по каждому заданию, но скрыты от вас. Вы довольно часто будете видеть ячейки с комментарием: "
   ]
  },
  {
   "cell_type": "code",
   "execution_count": null,
   "metadata": {
    "deletable": false,
    "editable": false,
    "nbgrader": {
     "cell_type": "code",
     "checksum": "67617a3df06aa008cf158e88becdd86a",
     "grade": false,
     "grade_id": "cell-e1db141dcb5c096a",
     "locked": true,
     "schema_version": 3,
     "solution": false,
     "task": false
    }
   },
   "outputs": [],
   "source": [
    "# проверка, что задание решено корректно"
   ]
  },
  {
   "cell_type": "markdown",
   "metadata": {
    "deletable": false,
    "editable": false,
    "nbgrader": {
     "cell_type": "markdown",
     "checksum": "f302ead6f16c6a625f114c70a24e2780",
     "grade": false,
     "grade_id": "cell-13b3aa3ee7dfdcf4",
     "locked": true,
     "schema_version": 3,
     "solution": false,
     "task": false
    }
   },
   "source": [
    "Он означает, что внутри этой ячейки есть секретные тесты, которые сами запустятся, когда нажмёте на кнопку __Submit assignment.__"
   ]
  },
  {
   "cell_type": "markdown",
   "metadata": {
    "deletable": false,
    "editable": false,
    "nbgrader": {
     "cell_type": "markdown",
     "checksum": "8494dc2dc3181856612fd05e67baa7a5",
     "grade": false,
     "grade_id": "cell-51982b917b2f9079",
     "locked": true,
     "schema_version": 3,
     "solution": false,
     "task": false
    }
   },
   "source": [
    "__а)__ Теперь настоящее задание. Сколько ценных бумаг входят во все три индекса сразу?"
   ]
  },
  {
   "cell_type": "code",
   "execution_count": 9,
   "metadata": {
    "deletable": false,
    "nbgrader": {
     "cell_type": "code",
     "checksum": "4adbc09358b9df27d70c5c7dfcc130e4",
     "grade": false,
     "grade_id": "cell-a3e4642fedb391d5",
     "locked": false,
     "schema_version": 3,
     "solution": true,
     "task": false
    }
   },
   "outputs": [
    {
     "data": {
      "text/plain": [
       "5"
      ]
     },
     "execution_count": 9,
     "metadata": {},
     "output_type": "execute_result"
    }
   ],
   "source": [
    "### ╰( ͡° ͜ʖ ͡° )つ▬▬ι═══════  bzzzzzzzzzz\n",
    "# will the code be with you\n",
    "\n",
    "# Формат ответа: целое число, пример: 7\n",
    "n_sp = (df_inf['S&P-500']&df_inf['NASDAQ']&df_inf['DJI']).sum() # запишите результат в переменную n_sp \n",
    "\n",
    "# your code here\n",
    "n_sp"
   ]
  },
  {
   "cell_type": "code",
   "execution_count": 10,
   "metadata": {
    "deletable": false,
    "editable": false,
    "nbgrader": {
     "cell_type": "code",
     "checksum": "58c3a9dc84ba771d9f393ebc1a285fa5",
     "grade": true,
     "grade_id": "cell-7093eda33cb546f1",
     "locked": true,
     "points": 1,
     "schema_version": 3,
     "solution": false,
     "task": false
    }
   },
   "outputs": [],
   "source": [
    "# проверка, что задание решено корректно\n",
    "assert n_sp < 10\n",
    "\n",
    "# Подобные тесты скрыты от вас"
   ]
  },
  {
   "cell_type": "markdown",
   "metadata": {
    "deletable": false,
    "editable": false,
    "nbgrader": {
     "cell_type": "markdown",
     "checksum": "f2366ca9b074a5a877f825914e0d846f",
     "grade": false,
     "grade_id": "cell-bbe2aab6b2d35f98",
     "locked": true,
     "schema_version": 3,
     "solution": false,
     "task": false
    }
   },
   "source": [
    "__б)__ В колонке `Founded` записан год основания компании. Сколько компаний из индекса S&P-500 были основаны в 19 веке (1900 год относится к 20 веку)? "
   ]
  },
  {
   "cell_type": "code",
   "execution_count": 38,
   "metadata": {
    "deletable": false,
    "nbgrader": {
     "cell_type": "code",
     "checksum": "446f58d4e109ff005e7c953c108ca5de",
     "grade": false,
     "grade_id": "cell-98628456e3c80b90",
     "locked": false,
     "schema_version": 3,
     "solution": true,
     "task": false
    }
   },
   "outputs": [
    {
     "data": {
      "text/plain": [
       "95"
      ]
     },
     "execution_count": 38,
     "metadata": {},
     "output_type": "execute_result"
    }
   ],
   "source": [
    "### ╰( ͡° ͜ʖ ͡° )つ▬▬ι═══════  bzzzzzzzzzz\n",
    "# will the code be with you\n",
    "\n",
    "# Формат ответа: целое число, пример: 91\n",
    "#n_founded = df_inf[df_inf['S&P-500']\n",
    "n_founded = ((df_inf['Founded']>=1800)&(df_inf['Founded']<1900)).sum()\n",
    "# запишите результат в переменную n_founded\n",
    "\n",
    "# your code here\n",
    "n_founded"
   ]
  },
  {
   "cell_type": "code",
   "execution_count": 39,
   "metadata": {
    "deletable": false,
    "editable": false,
    "nbgrader": {
     "cell_type": "code",
     "checksum": "e4f6411b8f936443a0b2eb0e021eb26f",
     "grade": true,
     "grade_id": "cell-26f49a06eee98f8c",
     "locked": true,
     "points": 1,
     "schema_version": 3,
     "solution": false,
     "task": false
    }
   },
   "outputs": [],
   "source": [
    "# проверка, что задание решено корректно\n",
    "assert n_founded < 100\n",
    "assert n_founded > 90\n",
    "\n",
    "# Подобные тесты скрыты от вас"
   ]
  },
  {
   "cell_type": "markdown",
   "metadata": {},
   "source": [
    "__в)__  В колонке `GICS Sector` находится сектор экономики, в котором работает компания. Сколько всего уникальных секторов представлено в данных? Все пропуски в этой колонке удалите методом `.dropna()`. "
   ]
  },
  {
   "cell_type": "code",
   "execution_count": 47,
   "metadata": {
    "deletable": false,
    "nbgrader": {
     "cell_type": "code",
     "checksum": "8ce9f2e164dc80dba8eb0d30efc52411",
     "grade": false,
     "grade_id": "cell-bc336ea499e3e27b",
     "locked": false,
     "schema_version": 3,
     "solution": true,
     "task": false
    }
   },
   "outputs": [
    {
     "data": {
      "text/plain": [
       "11"
      ]
     },
     "execution_count": 47,
     "metadata": {},
     "output_type": "execute_result"
    }
   ],
   "source": [
    "### ╰( ͡° ͜ʖ ͡° )つ▬▬ι═══════  bzzzzzzzzzz\n",
    "# will the code be with you\n",
    "\n",
    "# Формат ответа: целое число, пример: 10\n",
    "n_sectors = len(df_inf['GICS Sector'].dropna().unique())\n",
    "\n",
    "# your code here\n",
    "n_sectors"
   ]
  },
  {
   "cell_type": "code",
   "execution_count": 48,
   "metadata": {
    "deletable": false,
    "editable": false,
    "nbgrader": {
     "cell_type": "code",
     "checksum": "308000f4179835e540ffb713e704f586",
     "grade": true,
     "grade_id": "cell-5c44dafd2ec21e30",
     "locked": true,
     "points": 1,
     "schema_version": 3,
     "solution": false,
     "task": false
    }
   },
   "outputs": [],
   "source": [
    "# проверка, что задание решено корректно\n",
    "assert n_sectors > 5\n",
    "assert n_sectors < 15\n",
    "\n",
    "# Подобные тесты скрыты от вас"
   ]
  },
  {
   "cell_type": "markdown",
   "metadata": {},
   "source": [
    "__г)__ Сколько компаний из индекса S&P-500 в сумме приходится на $3$ самых крупных сектора? "
   ]
  },
  {
   "cell_type": "code",
   "execution_count": 54,
   "metadata": {
    "deletable": false,
    "nbgrader": {
     "cell_type": "code",
     "checksum": "dfab26d76d5dea6cded96b2c2a56c060",
     "grade": false,
     "grade_id": "cell-c82bb23f4ec849c5",
     "locked": false,
     "schema_version": 3,
     "solution": true,
     "task": false
    }
   },
   "outputs": [
    {
     "data": {
      "text/plain": [
       "210"
      ]
     },
     "execution_count": 54,
     "metadata": {},
     "output_type": "execute_result"
    }
   ],
   "source": [
    "### ╰( ͡° ͜ʖ ͡° )つ▬▬ι═══════  bzzzzzzzzzz\n",
    "# will the code be with you\n",
    "\n",
    "# Формат ответа: целое число, пример: 205\n",
    "sp = df_inf[df_inf['S&P-500']]\n",
    "n_top3  = sp['GICS Sector'].value_counts()[:3].sum()\n",
    "# запишите результат в переменную n_top3\n",
    "\n",
    "# your code here\n",
    "n_top3"
   ]
  },
  {
   "cell_type": "code",
   "execution_count": 55,
   "metadata": {
    "deletable": false,
    "editable": false,
    "nbgrader": {
     "cell_type": "code",
     "checksum": "6da71b1de381c0913ce0e57326d9808e",
     "grade": true,
     "grade_id": "cell-d401896c025ac426",
     "locked": true,
     "points": 1,
     "schema_version": 3,
     "solution": false,
     "task": false
    }
   },
   "outputs": [],
   "source": [
    "# проверка, что задание решено корректно\n",
    "assert n_top3 < 300\n",
    "assert n_top3 > 200\n",
    "\n",
    "# Подобные тесты скрыты от вас"
   ]
  },
  {
   "cell_type": "markdown",
   "metadata": {},
   "source": [
    "__д)__ У скольки компаний тикер (краткое название из колонки `Symbol`) состоит из трёх букв? "
   ]
  },
  {
   "cell_type": "code",
   "execution_count": 92,
   "metadata": {
    "deletable": false,
    "nbgrader": {
     "cell_type": "code",
     "checksum": "7ac0326ffe1145a820bd6af2de69726a",
     "grade": false,
     "grade_id": "cell-b9d28d9216c4d7da",
     "locked": false,
     "schema_version": 3,
     "solution": true,
     "task": false
    }
   },
   "outputs": [],
   "source": [
    "### ╰( ͡° ͜ʖ ͡° )つ▬▬ι═══════  bzzzzzzzzzz\n",
    "# will the code be with you\n",
    "\n",
    "# Формат ответа: целое число, пример: 322\n",
    "#n_ticker  = re.findall(r'???', df_inf.Symbol.values)\n",
    "n_ticker  = df_inf.Symbol.apply(lambda ticker: len(ticker))\n",
    "# запишите результат в переменную n_ticker\n",
    "\n",
    "# your code here\n",
    "n_ticker = len(n_ticker[n_ticker==3])"
   ]
  },
  {
   "cell_type": "code",
   "execution_count": 93,
   "metadata": {
    "deletable": false,
    "editable": false,
    "nbgrader": {
     "cell_type": "code",
     "checksum": "e2ae8d6d489fd991f7a0ab36ef019628",
     "grade": true,
     "grade_id": "cell-42f38a5c7bf141d9",
     "locked": true,
     "points": 1,
     "schema_version": 3,
     "solution": false,
     "task": false
    }
   },
   "outputs": [],
   "source": [
    "# проверка, что задание решено корректно\n",
    "assert n_ticker > 300\n",
    "assert n_ticker < 400\n",
    "\n",
    "# Подобные тесты скрыты от вас"
   ]
  },
  {
   "cell_type": "markdown",
   "metadata": {},
   "source": [
    "А из другого количества букв? Заведите колонку `letter_count` с числом букв в тикере, а после подсчитайте как часто в ней встречаются разные значения. "
   ]
  },
  {
   "cell_type": "code",
   "execution_count": 98,
   "metadata": {
    "deletable": false,
    "nbgrader": {
     "cell_type": "code",
     "checksum": "3caecd00e4d384bbd7bbb2dd2a32e9f8",
     "grade": false,
     "grade_id": "cell-c40e7dc5edeca7b7",
     "locked": false,
     "schema_version": 3,
     "solution": true,
     "task": false
    }
   },
   "outputs": [
    {
     "data": {
      "text/plain": [
       "3    308\n",
       "4    148\n",
       "2     52\n",
       "1     10\n",
       "5      7\n",
       "Name: letter_count, dtype: int64"
      ]
     },
     "execution_count": 98,
     "metadata": {},
     "output_type": "execute_result"
    }
   ],
   "source": [
    "### ╰( ͡° ͜ʖ ͡° )つ▬▬ι═══════  bzzzzzzzzzz\n",
    "# will the code be with you\n",
    "df_inf['letter_count']  = df_inf.Symbol.apply(lambda ticker: len(ticker))\n",
    "\n",
    "# your code here\n",
    "df_inf.letter_count.value_counts()"
   ]
  },
  {
   "cell_type": "markdown",
   "metadata": {},
   "source": [
    "Создайте в таблице новую колонку `first_letter`. Запишите туда первую букву каждого тикера из колонки `Symbol`. Какая буква встречается на первом месте чаще всего? "
   ]
  },
  {
   "cell_type": "code",
   "execution_count": 101,
   "metadata": {
    "deletable": false,
    "nbgrader": {
     "cell_type": "code",
     "checksum": "d889522c1369010c6e39bff4003d8290",
     "grade": false,
     "grade_id": "cell-1f455552fba542d7",
     "locked": false,
     "schema_version": 3,
     "solution": true,
     "task": false
    }
   },
   "outputs": [
    {
     "data": {
      "text/plain": [
       "0      A\n",
       "1      A\n",
       "2      A\n",
       "3      A\n",
       "4      A\n",
       "      ..\n",
       "520    Z\n",
       "521    Z\n",
       "522    Z\n",
       "523    Z\n",
       "524    Z\n",
       "Name: first_letter, Length: 525, dtype: object"
      ]
     },
     "execution_count": 101,
     "metadata": {},
     "output_type": "execute_result"
    }
   ],
   "source": [
    "### ╰( ͡° ͜ʖ ͡° )つ▬▬ι═══════  bzzzzzzzzzz\n",
    "# will the code be with you\n",
    "df_inf['first_letter']  = df_inf.Symbol.apply(lambda ticker: ticker[0])\n",
    "# Формат ответа: строка, пример: 'B'\n",
    "popular_letter = df_inf.first_letter.value_counts().index[0]\n",
    "\n",
    "# your code here\n",
    "popular_letter"
   ]
  },
  {
   "cell_type": "code",
   "execution_count": null,
   "metadata": {
    "deletable": false,
    "editable": false,
    "nbgrader": {
     "cell_type": "code",
     "checksum": "efc45ddd5a123984988e59a6dc979338",
     "grade": true,
     "grade_id": "cell-68a43319cbf3d95a",
     "locked": true,
     "points": 1,
     "schema_version": 3,
     "solution": false,
     "task": false
    }
   },
   "outputs": [],
   "source": [
    "# проверка, что задание решено корректно\n",
    "assert popular_letter not in {'T', 'C', 'M', 'P', 'D'}\n",
    "\n",
    "# Подобные тесты скрыты от вас"
   ]
  },
  {
   "cell_type": "markdown",
   "metadata": {},
   "source": [
    "__е)__ Теперь поработаем со стоимостью акций. \n",
    "\n",
    "- Из таблицы `df_inf` возьмите колонку `Symbol` и сохраните значения из неё, `.values`, в вектор tickers\n",
    "- Выберите из вектора 10 случайных тикеров командой `np.random.choice`, опцию `replace` установить в `False`, нам нужна выборка без повторений"
   ]
  },
  {
   "cell_type": "code",
   "execution_count": 131,
   "metadata": {
    "deletable": false,
    "nbgrader": {
     "cell_type": "code",
     "checksum": "42ca86fac275c245987894eb268a84be",
     "grade": false,
     "grade_id": "cell-11852f66da79a1bf",
     "locked": false,
     "schema_version": 3,
     "solution": true,
     "task": false
    }
   },
   "outputs": [
    {
     "data": {
      "text/plain": [
       "array(['PNW', 'UNM', 'NFLX', 'EXC', 'SPGI', 'GD', 'ROST', 'VAR', 'BMY',\n",
       "       'INTU'], dtype=object)"
      ]
     },
     "execution_count": 131,
     "metadata": {},
     "output_type": "execute_result"
    }
   ],
   "source": [
    "### ╰( ͡° ͜ʖ ͡° )つ▬▬ι═══════  bzzzzzzzzzz\n",
    "# will the code be with you\n",
    "\n",
    "# Формат ответа: целое число, пример: 505\n",
    "tickers = df_inf.Symbol.values\n",
    "\n",
    "# Формат ответа: массив из тикеров, пример: ['TSLA', 'AAPL', 'GOOG']\n",
    "tickers10 = np.random.choice(tickers, 10, replace = False)\n",
    "\n",
    "# your code here\n",
    "tickers10"
   ]
  },
  {
   "cell_type": "code",
   "execution_count": 132,
   "metadata": {
    "deletable": false,
    "editable": false,
    "nbgrader": {
     "cell_type": "code",
     "checksum": "17e738e8e29b33b88a4de8ac590fc531",
     "grade": true,
     "grade_id": "cell-bd0ae17d4b1c8978",
     "locked": true,
     "points": 1,
     "schema_version": 3,
     "solution": false,
     "task": false
    }
   },
   "outputs": [],
   "source": [
    "# проверка, что задание решено корректно\n",
    "assert tickers.size > 500\n",
    "assert tickers.size < 550\n",
    "\n",
    "# Подобные тесты скрыты от вас"
   ]
  },
  {
   "cell_type": "markdown",
   "metadata": {},
   "source": [
    "Методом `.plot` постройте для выбранных 10 тикеров картинку с динамикой их цен. В скобках у `.plot()` допишите `figsize=(12,7)`, чтобы отрегулировать размер картинки."
   ]
  },
  {
   "cell_type": "code",
   "execution_count": 152,
   "metadata": {
    "deletable": false,
    "nbgrader": {
     "cell_type": "code",
     "checksum": "a58a12bab4a4206bc053911c7878a590",
     "grade": false,
     "grade_id": "cell-7c9c9e54870451ca",
     "locked": false,
     "schema_version": 3,
     "solution": true,
     "task": false
    }
   },
   "outputs": [
    {
     "data": {
      "text/plain": [
       "<matplotlib.axes._subplots.AxesSubplot at 0x7f58d8c19b10>"
      ]
     },
     "execution_count": 152,
     "metadata": {},
     "output_type": "execute_result"
    },
    {
     "data": {
      "image/png": "[encoded data removed]",
      "text/plain": [
       "<Figure size 864x504 with 1 Axes>"
      ]
     },
     "metadata": {
      "needs_background": "light"
     },
     "output_type": "display_data"
    }
   ],
   "source": [
    "### ╰( ͡° ͜ʖ ͡° )つ▬▬ι═══════  bzzzzzzzzzz\n",
    "# will the code be with you\n",
    "# your code here\n",
    "#plt.plot(df_prices[tickers10].index.values, tickers10, kind=\"line\", figsize=(12,7))\n",
    "#\n",
    "df_prices[tickers10].plot(figsize=(12,7))"
   ]
  },
  {
   "cell_type": "markdown",
   "metadata": {},
   "source": [
    "Методом `.hist()` постройте для этих цен гистограммы. Выберите количество бинов `bins` равное $25$, опцию `density` поставьте в `True`. Это отнормирует высоту столбиков так, чтобы сумма площадей под ними была равна единице. "
   ]
  },
  {
   "cell_type": "code",
   "execution_count": 157,
   "metadata": {
    "deletable": false,
    "nbgrader": {
     "cell_type": "code",
     "checksum": "6cbe345d0364d1bcc0944d7d43cbc09e",
     "grade": false,
     "grade_id": "cell-f36b01ee7daa8a53",
     "locked": false,
     "schema_version": 3,
     "solution": true,
     "task": false
    }
   },
   "outputs": [
    {
     "data": {
      "text/plain": [
       "array([[<matplotlib.axes._subplots.AxesSubplot object at 0x7f58dd6b15d0>,\n",
       "        <matplotlib.axes._subplots.AxesSubplot object at 0x7f58dd6d87d0>,\n",
       "        <matplotlib.axes._subplots.AxesSubplot object at 0x7f58dd6f8c90>],\n",
       "       [<matplotlib.axes._subplots.AxesSubplot object at 0x7f58dd8ca250>,\n",
       "        <matplotlib.axes._subplots.AxesSubplot object at 0x7f58dd3e17d0>,\n",
       "        <matplotlib.axes._subplots.AxesSubplot object at 0x7f58da55cd50>],\n",
       "       [<matplotlib.axes._subplots.AxesSubplot object at 0x7f58dda2b390>,\n",
       "        <matplotlib.axes._subplots.AxesSubplot object at 0x7f58d8eb0850>,\n",
       "        <matplotlib.axes._subplots.AxesSubplot object at 0x7f58d8eb0890>],\n",
       "       [<matplotlib.axes._subplots.AxesSubplot object at 0x7f58d8ea7f10>,\n",
       "        <matplotlib.axes._subplots.AxesSubplot object at 0x7f58da698950>,\n",
       "        <matplotlib.axes._subplots.AxesSubplot object at 0x7f58da61bed0>]],\n",
       "      dtype=object)"
      ]
     },
     "execution_count": 157,
     "metadata": {},
     "output_type": "execute_result"
    },
    {
     "data": {
      "image/png": "[encoded data removed]",
      "text/plain": [
       "<Figure size 432x288 with 12 Axes>"
      ]
     },
     "metadata": {
      "needs_background": "light"
     },
     "output_type": "display_data"
    }
   ],
   "source": [
    "### ╰( ͡° ͜ʖ ͡° )つ▬▬ι═══════  bzzzzzzzzzz\n",
    "# will the code be with you\n",
    "\n",
    "# your code here\n",
    "df_prices[tickers10].hist(bins=25, density=True)"
   ]
  },
  {
   "cell_type": "markdown",
   "metadata": {},
   "source": [
    "- Как скорее всего распределена стоимость акций?\n",
    "- Что происходило с финансовыми рынками в течение последних $10$ лет? Они росли? Они падали? Видно ли, что были кризисы? "
   ]
  },
  {
   "cell_type": "markdown",
   "metadata": {},
   "source": [
    "Финансовые продукты характеризуются двумя основными характеристикам – __доходностью__ и __риском.__ Доходность – это процентное изменение стоимости за некоторый промежуток времени. Мы будем работать с доходностями за день: \n",
    "\n",
    "$$\n",
    "R_t = \\frac{P_t - P_{t-1}}{P_{t-1}}\n",
    "$$\n",
    "\n",
    "Перейдите к доходностям для всей таблицы `df_prices`. Для того, чтобы посчитать разность между каждой строкой таблицы и предыдущей строкой, используйте команду `.diff()`. Чтобы сдвинуть все строки на одну вниз, используйте команду `shift(1)`.  \n",
    "\n",
    "Поделите результат работы команды `diff` на результат работы команды `shift`. Обратите внимание, что в первой колонке теперь все значения `NaN`, так как мы не можем посчитать доходность для самого первого дня. Удалите из таблицы эту строку. "
   ]
  },
  {
   "cell_type": "code",
   "execution_count": 169,
   "metadata": {
    "deletable": false,
    "nbgrader": {
     "cell_type": "code",
     "checksum": "89f2cd3513f2cf8b17560d0f6d022eab",
     "grade": false,
     "grade_id": "cell-3f2f1d57222f9910",
     "locked": false,
     "schema_version": 3,
     "solution": true,
     "task": false
    }
   },
   "outputs": [
    {
     "data": {
      "text/html": [
       "<div>\n",
       "<style scoped>\n",
       "    .dataframe tbody tr th:only-of-type {\n",
       "        vertical-align: middle;\n",
       "    }\n",
       "\n",
       "    .dataframe tbody tr th {\n",
       "        vertical-align: top;\n",
       "    }\n",
       "\n",
       "    .dataframe thead th {\n",
       "        text-align: right;\n",
       "    }\n",
       "</style>\n",
       "<table border=\"1\" class=\"dataframe\">\n",
       "  <thead>\n",
       "    <tr style=\"text-align: right;\">\n",
       "      <th></th>\n",
       "      <th>A</th>\n",
       "      <th>AAL</th>\n",
       "      <th>AAP</th>\n",
       "      <th>AAPL</th>\n",
       "      <th>ABBV</th>\n",
       "      <th>ABC</th>\n",
       "      <th>ABMD</th>\n",
       "      <th>ABT</th>\n",
       "      <th>ACN</th>\n",
       "      <th>ADBE</th>\n",
       "      <th>...</th>\n",
       "      <th>XOM</th>\n",
       "      <th>XRAY</th>\n",
       "      <th>XRX</th>\n",
       "      <th>XYL</th>\n",
       "      <th>YUM</th>\n",
       "      <th>ZBH</th>\n",
       "      <th>ZBRA</th>\n",
       "      <th>ZION</th>\n",
       "      <th>ZM</th>\n",
       "      <th>ZTS</th>\n",
       "    </tr>\n",
       "    <tr>\n",
       "      <th>Date</th>\n",
       "      <th></th>\n",
       "      <th></th>\n",
       "      <th></th>\n",
       "      <th></th>\n",
       "      <th></th>\n",
       "      <th></th>\n",
       "      <th></th>\n",
       "      <th></th>\n",
       "      <th></th>\n",
       "      <th></th>\n",
       "      <th></th>\n",
       "      <th></th>\n",
       "      <th></th>\n",
       "      <th></th>\n",
       "      <th></th>\n",
       "      <th></th>\n",
       "      <th></th>\n",
       "      <th></th>\n",
       "      <th></th>\n",
       "      <th></th>\n",
       "      <th></th>\n",
       "    </tr>\n",
       "  </thead>\n",
       "  <tbody>\n",
       "    <tr>\n",
       "      <th>2010-08-03</th>\n",
       "      <td>-0.034004</td>\n",
       "      <td>0.001880</td>\n",
       "      <td>-0.015347</td>\n",
       "      <td>0.000306</td>\n",
       "      <td>NaN</td>\n",
       "      <td>-0.019621</td>\n",
       "      <td>-0.017905</td>\n",
       "      <td>0.003412</td>\n",
       "      <td>-0.008183</td>\n",
       "      <td>-0.016216</td>\n",
       "      <td>...</td>\n",
       "      <td>0.012593</td>\n",
       "      <td>0.008101</td>\n",
       "      <td>-0.017312</td>\n",
       "      <td>NaN</td>\n",
       "      <td>-0.015461</td>\n",
       "      <td>0.006688</td>\n",
       "      <td>-0.006887</td>\n",
       "      <td>-0.012232</td>\n",
       "      <td>NaN</td>\n",
       "      <td>NaN</td>\n",
       "    </tr>\n",
       "    <tr>\n",
       "      <th>2010-08-04</th>\n",
       "      <td>0.016164</td>\n",
       "      <td>-0.059099</td>\n",
       "      <td>0.014256</td>\n",
       "      <td>0.004009</td>\n",
       "      <td>NaN</td>\n",
       "      <td>0.012675</td>\n",
       "      <td>-0.042844</td>\n",
       "      <td>0.003600</td>\n",
       "      <td>0.008500</td>\n",
       "      <td>0.019918</td>\n",
       "      <td>...</td>\n",
       "      <td>0.000000</td>\n",
       "      <td>0.017036</td>\n",
       "      <td>0.009327</td>\n",
       "      <td>NaN</td>\n",
       "      <td>0.008698</td>\n",
       "      <td>0.011810</td>\n",
       "      <td>0.025183</td>\n",
       "      <td>0.000442</td>\n",
       "      <td>NaN</td>\n",
       "      <td>NaN</td>\n",
       "    </tr>\n",
       "    <tr>\n",
       "      <th>2010-08-05</th>\n",
       "      <td>0.006009</td>\n",
       "      <td>-0.038883</td>\n",
       "      <td>0.009558</td>\n",
       "      <td>-0.004868</td>\n",
       "      <td>NaN</td>\n",
       "      <td>-0.000659</td>\n",
       "      <td>-0.022857</td>\n",
       "      <td>-0.003986</td>\n",
       "      <td>-0.009172</td>\n",
       "      <td>-0.008754</td>\n",
       "      <td>...</td>\n",
       "      <td>-0.000159</td>\n",
       "      <td>-0.002844</td>\n",
       "      <td>-0.010267</td>\n",
       "      <td>NaN</td>\n",
       "      <td>0.015808</td>\n",
       "      <td>-0.006019</td>\n",
       "      <td>0.080456</td>\n",
       "      <td>-0.022547</td>\n",
       "      <td>NaN</td>\n",
       "      <td>NaN</td>\n",
       "    </tr>\n",
       "    <tr>\n",
       "      <th>2010-08-06</th>\n",
       "      <td>0.009487</td>\n",
       "      <td>-0.015560</td>\n",
       "      <td>-0.020790</td>\n",
       "      <td>-0.006152</td>\n",
       "      <td>NaN</td>\n",
       "      <td>-0.003296</td>\n",
       "      <td>-0.027291</td>\n",
       "      <td>0.011804</td>\n",
       "      <td>0.007505</td>\n",
       "      <td>-0.007133</td>\n",
       "      <td>...</td>\n",
       "      <td>-0.011801</td>\n",
       "      <td>0.000317</td>\n",
       "      <td>-0.005187</td>\n",
       "      <td>NaN</td>\n",
       "      <td>-0.001179</td>\n",
       "      <td>-0.009541</td>\n",
       "      <td>-0.003624</td>\n",
       "      <td>-0.020814</td>\n",
       "      <td>NaN</td>\n",
       "      <td>NaN</td>\n",
       "    </tr>\n",
       "    <tr>\n",
       "      <th>2010-08-09</th>\n",
       "      <td>0.037940</td>\n",
       "      <td>0.025290</td>\n",
       "      <td>0.009668</td>\n",
       "      <td>0.006382</td>\n",
       "      <td>NaN</td>\n",
       "      <td>-0.006283</td>\n",
       "      <td>0.025050</td>\n",
       "      <td>0.006130</td>\n",
       "      <td>0.007450</td>\n",
       "      <td>0.009921</td>\n",
       "      <td>...</td>\n",
       "      <td>0.007746</td>\n",
       "      <td>0.006654</td>\n",
       "      <td>0.016684</td>\n",
       "      <td>NaN</td>\n",
       "      <td>0.007790</td>\n",
       "      <td>0.000186</td>\n",
       "      <td>0.006614</td>\n",
       "      <td>0.009242</td>\n",
       "      <td>NaN</td>\n",
       "      <td>NaN</td>\n",
       "    </tr>\n",
       "    <tr>\n",
       "      <th>...</th>\n",
       "      <td>...</td>\n",
       "      <td>...</td>\n",
       "      <td>...</td>\n",
       "      <td>...</td>\n",
       "      <td>...</td>\n",
       "      <td>...</td>\n",
       "      <td>...</td>\n",
       "      <td>...</td>\n",
       "      <td>...</td>\n",
       "      <td>...</td>\n",
       "      <td>...</td>\n",
       "      <td>...</td>\n",
       "      <td>...</td>\n",
       "      <td>...</td>\n",
       "      <td>...</td>\n",
       "      <td>...</td>\n",
       "      <td>...</td>\n",
       "      <td>...</td>\n",
       "      <td>...</td>\n",
       "      <td>...</td>\n",
       "      <td>...</td>\n",
       "    </tr>\n",
       "    <tr>\n",
       "      <th>2020-07-27</th>\n",
       "      <td>0.025947</td>\n",
       "      <td>0.000000</td>\n",
       "      <td>-0.002988</td>\n",
       "      <td>0.023700</td>\n",
       "      <td>0.000515</td>\n",
       "      <td>0.002313</td>\n",
       "      <td>0.019355</td>\n",
       "      <td>0.010510</td>\n",
       "      <td>0.008490</td>\n",
       "      <td>0.015779</td>\n",
       "      <td>...</td>\n",
       "      <td>0.014736</td>\n",
       "      <td>0.004857</td>\n",
       "      <td>0.010863</td>\n",
       "      <td>0.013603</td>\n",
       "      <td>0.002469</td>\n",
       "      <td>0.000969</td>\n",
       "      <td>0.012445</td>\n",
       "      <td>-0.036277</td>\n",
       "      <td>0.023402</td>\n",
       "      <td>0.018721</td>\n",
       "    </tr>\n",
       "    <tr>\n",
       "      <th>2020-07-28</th>\n",
       "      <td>-0.020253</td>\n",
       "      <td>0.033363</td>\n",
       "      <td>-0.004359</td>\n",
       "      <td>-0.016427</td>\n",
       "      <td>-0.004632</td>\n",
       "      <td>-0.018173</td>\n",
       "      <td>-0.012458</td>\n",
       "      <td>-0.001300</td>\n",
       "      <td>-0.005105</td>\n",
       "      <td>-0.011073</td>\n",
       "      <td>...</td>\n",
       "      <td>-0.011799</td>\n",
       "      <td>0.001151</td>\n",
       "      <td>-0.038559</td>\n",
       "      <td>-0.012224</td>\n",
       "      <td>-0.006640</td>\n",
       "      <td>-0.000596</td>\n",
       "      <td>-0.007902</td>\n",
       "      <td>-0.004628</td>\n",
       "      <td>-0.000594</td>\n",
       "      <td>-0.006398</td>\n",
       "    </tr>\n",
       "    <tr>\n",
       "      <th>2020-07-29</th>\n",
       "      <td>0.018888</td>\n",
       "      <td>-0.031436</td>\n",
       "      <td>0.013818</td>\n",
       "      <td>0.019168</td>\n",
       "      <td>0.003102</td>\n",
       "      <td>0.011752</td>\n",
       "      <td>0.014276</td>\n",
       "      <td>0.026637</td>\n",
       "      <td>0.009902</td>\n",
       "      <td>0.009346</td>\n",
       "      <td>...</td>\n",
       "      <td>0.011022</td>\n",
       "      <td>0.029655</td>\n",
       "      <td>0.042735</td>\n",
       "      <td>0.038068</td>\n",
       "      <td>0.022426</td>\n",
       "      <td>0.040400</td>\n",
       "      <td>0.009846</td>\n",
       "      <td>0.034408</td>\n",
       "      <td>0.000833</td>\n",
       "      <td>0.011029</td>\n",
       "    </tr>\n",
       "    <tr>\n",
       "      <th>2020-07-30</th>\n",
       "      <td>-0.012049</td>\n",
       "      <td>-0.019298</td>\n",
       "      <td>0.031442</td>\n",
       "      <td>0.012100</td>\n",
       "      <td>-0.009999</td>\n",
       "      <td>-0.011035</td>\n",
       "      <td>-0.000635</td>\n",
       "      <td>-0.009657</td>\n",
       "      <td>-0.001783</td>\n",
       "      <td>0.005913</td>\n",
       "      <td>...</td>\n",
       "      <td>-0.049057</td>\n",
       "      <td>0.010047</td>\n",
       "      <td>0.029004</td>\n",
       "      <td>-0.032396</td>\n",
       "      <td>-0.033639</td>\n",
       "      <td>-0.009170</td>\n",
       "      <td>0.004017</td>\n",
       "      <td>-0.017681</td>\n",
       "      <td>-0.009469</td>\n",
       "      <td>0.010299</td>\n",
       "    </tr>\n",
       "    <tr>\n",
       "      <th>2020-07-31</th>\n",
       "      <td>0.004170</td>\n",
       "      <td>-0.005367</td>\n",
       "      <td>-0.017858</td>\n",
       "      <td>0.104689</td>\n",
       "      <td>-0.011766</td>\n",
       "      <td>-0.019379</td>\n",
       "      <td>0.003446</td>\n",
       "      <td>-0.008766</td>\n",
       "      <td>0.003572</td>\n",
       "      <td>0.012395</td>\n",
       "      <td>...</td>\n",
       "      <td>0.005016</td>\n",
       "      <td>-0.014147</td>\n",
       "      <td>0.020221</td>\n",
       "      <td>-0.022633</td>\n",
       "      <td>-0.006438</td>\n",
       "      <td>-0.024873</td>\n",
       "      <td>0.021095</td>\n",
       "      <td>-0.009457</td>\n",
       "      <td>0.015640</td>\n",
       "      <td>0.017236</td>\n",
       "    </tr>\n",
       "  </tbody>\n",
       "</table>\n",
       "<p>2523 rows × 523 columns</p>\n",
       "</div>"
      ],
      "text/plain": [
       "                   A       AAL       AAP      AAPL      ABBV       ABC  \\\n",
       "Date                                                                     \n",
       "2010-08-03 -0.034004  0.001880 -0.015347  0.000306       NaN -0.019621   \n",
       "2010-08-04  0.016164 -0.059099  0.014256  0.004009       NaN  0.012675   \n",
       "2010-08-05  0.006009 -0.038883  0.009558 -0.004868       NaN -0.000659   \n",
       "2010-08-06  0.009487 -0.015560 -0.020790 -0.006152       NaN -0.003296   \n",
       "2010-08-09  0.037940  0.025290  0.009668  0.006382       NaN -0.006283   \n",
       "...              ...       ...       ...       ...       ...       ...   \n",
       "2020-07-27  0.025947  0.000000 -0.002988  0.023700  0.000515  0.002313   \n",
       "2020-07-28 -0.020253  0.033363 -0.004359 -0.016427 -0.004632 -0.018173   \n",
       "2020-07-29  0.018888 -0.031436  0.013818  0.019168  0.003102  0.011752   \n",
       "2020-07-30 -0.012049 -0.019298  0.031442  0.012100 -0.009999 -0.011035   \n",
       "2020-07-31  0.004170 -0.005367 -0.017858  0.104689 -0.011766 -0.019379   \n",
       "\n",
       "                ABMD       ABT       ACN      ADBE  ...       XOM      XRAY  \\\n",
       "Date                                                ...                       \n",
       "2010-08-03 -0.017905  0.003412 -0.008183 -0.016216  ...  0.012593  0.008101   \n",
       "2010-08-04 -0.042844  0.003600  0.008500  0.019918  ...  0.000000  0.017036   \n",
       "2010-08-05 -0.022857 -0.003986 -0.009172 -0.008754  ... -0.000159 -0.002844   \n",
       "2010-08-06 -0.027291  0.011804  0.007505 -0.007133  ... -0.011801  0.000317   \n",
       "2010-08-09  0.025050  0.006130  0.007450  0.009921  ...  0.007746  0.006654   \n",
       "...              ...       ...       ...       ...  ...       ...       ...   \n",
       "2020-07-27  0.019355  0.010510  0.008490  0.015779  ...  0.014736  0.004857   \n",
       "2020-07-28 -0.012458 -0.001300 -0.005105 -0.011073  ... -0.011799  0.001151   \n",
       "2020-07-29  0.014276  0.026637  0.009902  0.009346  ...  0.011022  0.029655   \n",
       "2020-07-30 -0.000635 -0.009657 -0.001783  0.005913  ... -0.049057  0.010047   \n",
       "2020-07-31  0.003446 -0.008766  0.003572  0.012395  ...  0.005016 -0.014147   \n",
       "\n",
       "                 XRX       XYL       YUM       ZBH      ZBRA      ZION  \\\n",
       "Date                                                                     \n",
       "2010-08-03 -0.017312       NaN -0.015461  0.006688 -0.006887 -0.012232   \n",
       "2010-08-04  0.009327       NaN  0.008698  0.011810  0.025183  0.000442   \n",
       "2010-08-05 -0.010267       NaN  0.015808 -0.006019  0.080456 -0.022547   \n",
       "2010-08-06 -0.005187       NaN -0.001179 -0.009541 -0.003624 -0.020814   \n",
       "2010-08-09  0.016684       NaN  0.007790  0.000186  0.006614  0.009242   \n",
       "...              ...       ...       ...       ...       ...       ...   \n",
       "2020-07-27  0.010863  0.013603  0.002469  0.000969  0.012445 -0.036277   \n",
       "2020-07-28 -0.038559 -0.012224 -0.006640 -0.000596 -0.007902 -0.004628   \n",
       "2020-07-29  0.042735  0.038068  0.022426  0.040400  0.009846  0.034408   \n",
       "2020-07-30  0.029004 -0.032396 -0.033639 -0.009170  0.004017 -0.017681   \n",
       "2020-07-31  0.020221 -0.022633 -0.006438 -0.024873  0.021095 -0.009457   \n",
       "\n",
       "                  ZM       ZTS  \n",
       "Date                            \n",
       "2010-08-03       NaN       NaN  \n",
       "2010-08-04       NaN       NaN  \n",
       "2010-08-05       NaN       NaN  \n",
       "2010-08-06       NaN       NaN  \n",
       "2010-08-09       NaN       NaN  \n",
       "...              ...       ...  \n",
       "2020-07-27  0.023402  0.018721  \n",
       "2020-07-28 -0.000594 -0.006398  \n",
       "2020-07-29  0.000833  0.011029  \n",
       "2020-07-30 -0.009469  0.010299  \n",
       "2020-07-31  0.015640  0.017236  \n",
       "\n",
       "[2523 rows x 523 columns]"
      ]
     },
     "execution_count": 169,
     "metadata": {},
     "output_type": "execute_result"
    }
   ],
   "source": [
    "### ╰( ͡° ͜ʖ ͡° )つ▬▬ι═══════  bzzzzzzzzzz\n",
    "# will the code be with you\n",
    "\n",
    "df_r = df_prices\n",
    "dif= df_r.diff()\n",
    "shif = df_r.shift(1)\n",
    "# your code here\n",
    "df_r = dif/shif\n",
    "\n",
    "df_r = df_r.drop(index = '2010-08-02')\n",
    "df_r"
   ]
  },
  {
   "cell_type": "code",
   "execution_count": 170,
   "metadata": {
    "deletable": false,
    "editable": false,
    "nbgrader": {
     "cell_type": "code",
     "checksum": "d8f8b4ec3888686ee4b642fcf0dd153f",
     "grade": true,
     "grade_id": "cell-a6be28ef13a07dbf",
     "locked": true,
     "points": 1,
     "schema_version": 3,
     "solution": false,
     "task": false
    }
   },
   "outputs": [],
   "source": [
    "# проверка, что задание решено корректно\n",
    "assert df_r.iloc[0,0] < 1\n",
    "\n",
    "# Подобные тесты скрыты от вас"
   ]
  },
  {
   "cell_type": "markdown",
   "metadata": {},
   "source": [
    "Методом `.plot` постройте для выбранных ранее 10  случайных тикеров картинку с динамикой доходностей. "
   ]
  },
  {
   "cell_type": "code",
   "execution_count": 171,
   "metadata": {
    "deletable": false,
    "nbgrader": {
     "cell_type": "code",
     "checksum": "50c6e77ba8d6a057e4f1ea4c5393c933",
     "grade": false,
     "grade_id": "cell-23e982aeb70ac417",
     "locked": false,
     "schema_version": 3,
     "solution": true,
     "task": false
    }
   },
   "outputs": [
    {
     "data": {
      "text/plain": [
       "<matplotlib.axes._subplots.AxesSubplot at 0x7f58dafeb390>"
      ]
     },
     "execution_count": 171,
     "metadata": {},
     "output_type": "execute_result"
    },
    {
     "data": {
      "image/png": "[encoded data removed]",
      "text/plain": [
       "<Figure size 864x504 with 1 Axes>"
      ]
     },
     "metadata": {
      "needs_background": "light"
     },
     "output_type": "display_data"
    }
   ],
   "source": [
    "### ╰( ͡° ͜ʖ ͡° )つ▬▬ι═══════  bzzzzzzzzzz\n",
    "# will the code be with you\n",
    "\n",
    "# your code here\n",
    "df_r[tickers10].plot(figsize=(12,7))"
   ]
  },
  {
   "cell_type": "markdown",
   "metadata": {},
   "source": [
    "Постройте для доходностей этих десяти тикеров гистограммы. "
   ]
  },
  {
   "cell_type": "code",
   "execution_count": 172,
   "metadata": {
    "deletable": false,
    "nbgrader": {
     "cell_type": "code",
     "checksum": "9c578f25f0d263b014c53cf38224ef78",
     "grade": false,
     "grade_id": "cell-da7f81bd413fb858",
     "locked": false,
     "schema_version": 3,
     "solution": true,
     "task": false
    }
   },
   "outputs": [
    {
     "data": {
      "text/plain": [
       "array([[<matplotlib.axes._subplots.AxesSubplot object at 0x7f58dd8b5990>,\n",
       "        <matplotlib.axes._subplots.AxesSubplot object at 0x7f58dae94f50>,\n",
       "        <matplotlib.axes._subplots.AxesSubplot object at 0x7f58dae50450>],\n",
       "       [<matplotlib.axes._subplots.AxesSubplot object at 0x7f58dae039d0>,\n",
       "        <matplotlib.axes._subplots.AxesSubplot object at 0x7f58dae35f50>,\n",
       "        <matplotlib.axes._subplots.AxesSubplot object at 0x7f58dadf2510>],\n",
       "       [<matplotlib.axes._subplots.AxesSubplot object at 0x7f58dada3b10>,\n",
       "        <matplotlib.axes._subplots.AxesSubplot object at 0x7f58dad56fd0>,\n",
       "        <matplotlib.axes._subplots.AxesSubplot object at 0x7f58dad61050>],\n",
       "       [<matplotlib.axes._subplots.AxesSubplot object at 0x7f58dad176d0>,\n",
       "        <matplotlib.axes._subplots.AxesSubplot object at 0x7f58dac8d110>,\n",
       "        <matplotlib.axes._subplots.AxesSubplot object at 0x7f58dac42690>]],\n",
       "      dtype=object)"
      ]
     },
     "execution_count": 172,
     "metadata": {},
     "output_type": "execute_result"
    },
    {
     "data": {
      "image/png": "[encoded data removed]",
      "text/plain": [
       "<Figure size 432x288 with 12 Axes>"
      ]
     },
     "metadata": {
      "needs_background": "light"
     },
     "output_type": "display_data"
    }
   ],
   "source": [
    "### ╰( ͡° ͜ʖ ͡° )つ▬▬ι═══════  bzzzzzzzzzz\n",
    "# will the code be with you\n",
    "\n",
    "# your code here\n",
    "df_r[tickers10].hist(bins=25, density=True)"
   ]
  },
  {
   "cell_type": "markdown",
   "metadata": {},
   "source": [
    "Постройте для доходностей этих 10 бумаг ящики с усами. Для этого в опциях команды `plot` укажите `'kind'='box'`. "
   ]
  },
  {
   "cell_type": "code",
   "execution_count": 173,
   "metadata": {
    "deletable": false,
    "nbgrader": {
     "cell_type": "code",
     "checksum": "c50c27ce71cc1ac059a5cb2b02267fbd",
     "grade": false,
     "grade_id": "cell-c0b42310d00ff47e",
     "locked": false,
     "schema_version": 3,
     "solution": true,
     "task": false
    }
   },
   "outputs": [
    {
     "data": {
      "text/plain": [
       "<matplotlib.axes._subplots.AxesSubplot at 0x7f58da892f50>"
      ]
     },
     "execution_count": 173,
     "metadata": {},
     "output_type": "execute_result"
    },
    {
     "data": {
      "image/png": "[encoded data removed]",
      "text/plain": [
       "<Figure size 864x504 with 1 Axes>"
      ]
     },
     "metadata": {
      "needs_background": "light"
     },
     "output_type": "display_data"
    }
   ],
   "source": [
    "### ╰( ͡° ͜ʖ ͡° )つ▬▬ι═══════  bzzzzzzzzzz\n",
    "# will the code be with you\n",
    "\n",
    "# your code here\n",
    "df_r[tickers10].plot(kind = 'box', figsize=(12,7))"
   ]
  },
  {
   "cell_type": "markdown",
   "metadata": {},
   "source": [
    "__Выводы:__ \n",
    "\n",
    "Доходности по нашим акциям имеют распределение похожее на нормальное, но есть отличие. По ящикам с усами видно, что в данных есть довольно большое количество выбросов. Это сигнализирует о том, что у распределения доходностей хвосты оказываются более тяжёлыми, чем у нормального распределения. То есть под ними сосредоточено больше вероятностной массы и из-за этого редкое события более вероятны, чем для нормального распределения. Такую особенность финансовых данных мы более подробно будем обсуждать в будущем. \n",
    "\n",
    "Кроме того, по построенным визуализациям видно, что средние доходности практически для всех ценных бумаг находится близко к нулю."
   ]
  },
  {
   "cell_type": "markdown",
   "metadata": {},
   "source": [
    "__ё)__  Без буквы `ё` никуда, скажут нам [Пафнутий Чебышёв](https://ru.wikipedia.org/wiki/%D0%A7%D0%B5%D0%B1%D1%8B%D1%88%D1%91%D0%B2,_%D0%9F%D0%B0%D1%84%D0%BD%D1%83%D1%82%D0%B8%D0%B9_%D0%9B%D1%8C%D0%B2%D0%BE%D0%B2%D0%B8%D1%87) и [Лёв Толстой](https://arzamas.academy/special/ruslit/writers/tolstoy).  \n",
    "\n",
    "Посчитайте для всех компаний среднюю доходность (просто сделайте `.mean()` за весь период). Найдите 10 самых доходных компаний и 10 самых убыточных. "
   ]
  },
  {
   "cell_type": "code",
   "execution_count": 202,
   "metadata": {
    "deletable": false,
    "nbgrader": {
     "cell_type": "code",
     "checksum": "c901d7481f48d40da1bc46d38776d64d",
     "grade": false,
     "grade_id": "cell-8f8e17c6eddef5d2",
     "locked": false,
     "schema_version": 3,
     "solution": true,
     "task": false
    }
   },
   "outputs": [
    {
     "data": {
      "text/plain": [
       "['VIAC', 'UA', 'FOX', 'FOXA', 'COTY', 'DVN', 'KHC', 'WRK', 'SLB', 'APA']"
      ]
     },
     "execution_count": 202,
     "metadata": {},
     "output_type": "execute_result"
    }
   ],
   "source": [
    "### ╰( ͡° ͜ʖ ͡° )つ▬▬ι═══════  bzzzzzzzzzz\n",
    "# will the code be with you\n",
    "\n",
    "R  =  df_r.mean()     # средние доходности \n",
    "\n",
    "# Формат ответа: массивы из 10 тикеров, отсортированных в ликсикографическом порядке \n",
    "# пример: ['CARR', 'DOCU', 'DXCM', 'HWM']\n",
    "# тип данных должен быть list, не np.array\n",
    "# метод .values выдаёт данные в формате np.array: array(['CARR', 'DOCU', 'DXCM', 'HWM'])\n",
    "rtop_10 = list(R.sort_values(ascending=False)[:10].index)  # list из тикеров 10 самых доходных компаний отсортированный по алфавиту\n",
    "#rbottom_10 = ...   # list из тикеров 10 самых убыточных компаний отсортированный по алфавиту\n",
    "\n",
    "# your code here\n",
    "rbottom_10 = list(R.sort_values(ascending=True)[:10].index)\n",
    "rbottom_10"
   ]
  },
  {
   "cell_type": "code",
   "execution_count": 203,
   "metadata": {
    "deletable": false,
    "editable": false,
    "nbgrader": {
     "cell_type": "code",
     "checksum": "c1953af971ef1bad2faf4c3ac4663e90",
     "grade": true,
     "grade_id": "cell-2ae0cb6d8a75ba8e",
     "locked": true,
     "points": 1,
     "schema_version": 3,
     "solution": false,
     "task": false
    }
   },
   "outputs": [],
   "source": [
    "# проверка, что задание решено корректно\n",
    "assert 'DXCM' in rtop_10\n",
    "assert 'HWM' in rtop_10\n",
    "\n",
    "assert 'SLB' in rbottom_10\n",
    "assert 'FOX' in rbottom_10\n",
    "\n",
    "# Подобные тесты скрыты от вас"
   ]
  },
  {
   "cell_type": "markdown",
   "metadata": {},
   "source": [
    "Есть ли среди самых доходных компаний Тесла? :) "
   ]
  },
  {
   "cell_type": "markdown",
   "metadata": {},
   "source": [
    "__ж)__ Мы поговорили о доходности. Теперь поговорим о риске. Один из способов измерить, насколько ценная бумага рискованная -  использовать стандартное отклонение. \n",
    "\n",
    "Посчитайте для всех компаний стандартное отклонение доходности. Найдите 10 самых рискованных компаний и 10 самых безрисковых. "
   ]
  },
  {
   "cell_type": "code",
   "execution_count": null,
   "metadata": {
    "deletable": false,
    "nbgrader": {
     "cell_type": "code",
     "checksum": "c6d28df016ee42d264ad56e1135a260a",
     "grade": false,
     "grade_id": "cell-fc58f4de09200723",
     "locked": false,
     "schema_version": 3,
     "solution": true,
     "task": false
    }
   },
   "outputs": [],
   "source": [
    "### ╰( ͡° ͜ʖ ͡° )つ▬▬ι═══════  bzzzzzzzzzz\n",
    "# will the code be with you\n",
    "\n",
    "STD  = ...           # стандартные отклонения доходностей\n",
    "\n",
    "# Формат ответа: массивы из 10 тикеров, отсортированных в ликсикографическом порядке \n",
    "# пример: ['CARR', 'DOCU', 'DXCM', 'HWM']\n",
    "# тип данных должен быть list, не np.array\n",
    "# метод .values выдаёт данные в формате np.array: array(['CARR', 'DOCU', 'DXCM', 'HWM'])\n",
    "stdtop_10 = ...      # list из тикеров 10 самых доходных компаний отсортированный по алфавиту\n",
    "stdbottom_10 = ...   # list из тикеров 10 самых убыточных компаний отсортированный по алфавиту\n",
    "\n",
    "# your code here\n"
   ]
  },
  {
   "cell_type": "code",
   "execution_count": null,
   "metadata": {
    "deletable": false,
    "editable": false,
    "nbgrader": {
     "cell_type": "code",
     "checksum": "ec914385e38b028a5c0b777f6b0bdfbb",
     "grade": true,
     "grade_id": "cell-e729610527e9e29a",
     "locked": true,
     "points": 1,
     "schema_version": 3,
     "solution": false,
     "task": false
    }
   },
   "outputs": [],
   "source": [
    "# проверка, что задание решено корректно\n",
    "assert 'TSLA' in stdtop_10\n",
    "assert 'HWM' in stdtop_10\n",
    "\n",
    "assert 'PEP' in stdbottom_10\n",
    "assert 'DUK' in stdbottom_10\n",
    "\n",
    "# Подобные тесты скрыты от вас"
   ]
  },
  {
   "cell_type": "markdown",
   "metadata": {},
   "source": [
    "Есть ли среди самых рискованных компаний Тесла? :) "
   ]
  },
  {
   "cell_type": "markdown",
   "metadata": {},
   "source": [
    "Обычно инвесторы принимают решение покупать бумагу к себе в портфель, отталкиваясь от того какие соотношения доходность/риск существуют на рынке. Построим для наших ценных бумаг диаграмму рассеивания, на которой будет видно где по своей доходности и риску находится какая ценная бумага. \n",
    "\n",
    "Если вы корректно решили все предыдущие пункты, вам достаточно просто запустить код ниже и он выполнится сам. "
   ]
  },
  {
   "cell_type": "code",
   "execution_count": null,
   "metadata": {},
   "outputs": [],
   "source": [
    "# таблица с доходностями и риском\n",
    "data = pd.DataFrame({'std': STD, 'r': R})\n",
    "\n",
    "# добавили сектора экономики для каждой из ценных бумаг\n",
    "data = data.join(df_inf.set_index('Symbol')['GICS Sector'])\n",
    "data.fillna('another sector')\n",
    "data.head()"
   ]
  },
  {
   "cell_type": "code",
   "execution_count": null,
   "metadata": {},
   "outputs": [],
   "source": [
    "plt.figure(figsize=(15, 8))\n",
    "\n",
    "sns.scatterplot(data=data, x='std', y='r', hue='GICS Sector')\n",
    "\n",
    "tsla = data.loc['TSLA']\n",
    "sns.regplot([tsla['std']], [tsla['r']], scatter=True, fit_reg=False, \n",
    "            marker='x', color='black', scatter_kws={'s':100}) \n",
    "\n",
    "plt.ylim(-0.002, 0.005)\n",
    "plt.xlim(0.01, 0.04)\n",
    "\n",
    "plt.xlabel('Риск')\n",
    "plt.ylabel('Доходность')\n",
    "plt.title('Риск и доходность различных ценных бумаг');"
   ]
  },
  {
   "cell_type": "markdown",
   "metadata": {},
   "source": [
    "Чем больше риск, тем выше потенциально может оказаться доходноcть. __Но при этом мы с более высокой вероятностью можем уйти в убыток.__ Чёрным крестиком отдельно отмечена Тесла, которая обладает довольно высокими доходностью и риском.\n",
    "\n",
    "> Можно ли купить какую-то другую бумагу, которая обладает примерно такой же доходностью как тесла, но при этом её риск меньше? \n",
    "\n",
    "Сделайте группировку (`groupby`) для таблицы `data` по секторам экономики. Какой из секторов экономики обладает самым низким медианным значением риска? "
   ]
  },
  {
   "cell_type": "code",
   "execution_count": null,
   "metadata": {
    "deletable": false,
    "nbgrader": {
     "cell_type": "code",
     "checksum": "bbf350134b2c674fbc019b508d9f6823",
     "grade": false,
     "grade_id": "cell-5ce60d05de1ef988",
     "locked": false,
     "schema_version": 3,
     "solution": true,
     "task": false
    }
   },
   "outputs": [],
   "source": [
    "### ╰( ͡° ͜ʖ ͡° )つ▬▬ι═══════  bzzzzzzzzzz\n",
    "# will the code be with you\n",
    "\n",
    "df_agg = ...      # таблица после группировки \n",
    "\n",
    "# Формат ответа: строка, пример: 'Utilities'\n",
    "min_sector = ...  # название сектора с минимальным медианным риском\n",
    "max_sector = ...  # название сектора с максимальной доходностью \n",
    "\n",
    "# your code here\n"
   ]
  },
  {
   "cell_type": "code",
   "execution_count": null,
   "metadata": {
    "deletable": false,
    "editable": false,
    "nbgrader": {
     "cell_type": "code",
     "checksum": "a8fa8e2be2d3b39a815bd673e34592f3",
     "grade": true,
     "grade_id": "cell-2305736f7a3c1b80",
     "locked": true,
     "points": 1,
     "schema_version": 3,
     "solution": false,
     "task": false
    }
   },
   "outputs": [],
   "source": [
    "# проверка, что задание решено корректно\n",
    "assert min_sector == 'Utilities'\n",
    "\n",
    "# Подобные тесты скрыты от вас"
   ]
  },
  {
   "cell_type": "markdown",
   "metadata": {},
   "source": [
    "__з)__  Надо понимать, что стандартное отклонение чувствительно к выбросам. Поэтому в качестве меры риска часто рассматривают VaR. \n",
    "\n",
    "__Value-at-Risk__ — одна из самых распространенных форм измерения финансовых рисков. Общепринято обозначается $VaR$.\n",
    "Еще его часто называют статистика $16:15$, такое название он получил потому, что $16:15$ – это время, в которое он якобы должен лежать на столе главы правления банка JPMorgan. (В этом банке данный показатель был впервые введен с целью повышения эффективности работы с рисками).\n",
    "\n",
    "__Value-at-Risk__ на каком-либо уровне (скажем, $5\\%$) – это просто квантиль на уровне $5\\%$. То есть это такая доходность, что в $95\\%$ случаев у нас дела будут лучше."
   ]
  },
  {
   "cell_type": "markdown",
   "metadata": {},
   "source": [
    "Посчитайте $5\\%$ VaR по всем ценным бумагам. Для этого используйте метод `quantile()`. Найдите 10 самых рискованных компаний и 10 наименее рискованных компаний с точки зрения этого показателя. Не забудьте умножить результаты на $-1$ перед сортировкой. "
   ]
  },
  {
   "cell_type": "code",
   "execution_count": null,
   "metadata": {
    "deletable": false,
    "nbgrader": {
     "cell_type": "code",
     "checksum": "eeb7b6e7cfba1876102411a720bffbb1",
     "grade": false,
     "grade_id": "cell-00f6dd9019991cc1",
     "locked": false,
     "schema_version": 3,
     "solution": true,
     "task": false
    }
   },
   "outputs": [],
   "source": [
    "### ╰( ͡° ͜ʖ ͡° )つ▬▬ι═══════  bzzzzzzzzzz\n",
    "# will the code be with you\n",
    "\n",
    "VaR  = ...           # Value at risk по нашим бумагам\n",
    "\n",
    "# Формат ответа: массивы из 10 тикеров, отсортированных в ликсикографическом порядке \n",
    "# пример: ['CARR', 'DOCU', 'DXCM', 'HWM']\n",
    "# тип данных должен быть list, не np.array\n",
    "# метод .values выдаёт данные в формате np.array: array(['CARR', 'DOCU', 'DXCM', 'HWM'])\n",
    "VaRtop_10 = ...      # list из тикеров 10 самых рисковых компаний отсортированный по алфавиту\n",
    "VaRbottom_10 = ...   # list из тикеров 10 самых безрисковых компаний отсортированный по алфавиту\n",
    "\n",
    "# your code here\n"
   ]
  },
  {
   "cell_type": "code",
   "execution_count": null,
   "metadata": {
    "deletable": false,
    "editable": false,
    "nbgrader": {
     "cell_type": "code",
     "checksum": "79fc4786f1601a80466f2ed19e2e2415",
     "grade": true,
     "grade_id": "cell-c0e57bebbc050f3a",
     "locked": true,
     "points": 1,
     "schema_version": 3,
     "solution": false,
     "task": false
    }
   },
   "outputs": [],
   "source": [
    "# проверка, что задание решено корректно\n",
    "assert 'TSLA' in VaRtop_10 \n",
    "assert 'HWM' in VaRtop_10 \n",
    "\n",
    "assert 'PG' in VaRbottom_10\n",
    "assert 'MCD' in VaRbottom_10\n",
    "\n",
    "# Подобные тесты скрыты от вас"
   ]
  },
  {
   "cell_type": "markdown",
   "metadata": {},
   "source": [
    "$VaR$ хорош тем, что описывает именно ту часть распределения, которую мы боимся. Но $VaR$ - это лучшее из $5\\%$ худших случаев. А что лежит в тех $5\\%$?…"
   ]
  },
  {
   "cell_type": "markdown",
   "metadata": {},
   "source": [
    "__и)__  __Expected shortfall__ - это среднее значение по всем тем точкам, что оказались хуже $VaR$, То есть среднее по худшим $5\\%$. Эта метрика показывает что в среднем произойдёт с нашей доходностью в этих самых плохих $5\\%$ случаев. \n",
    "\n",
    "- Рассчитаете $ES$ для Теслы\n",
    "- Предположим, что мы вложили в Теслу $1000$ долларов в один из самых неудачных дней. Сколько в среднем денег мы потеряем от этой $1000$ долларов к концу дня? \n",
    "- Сколько денег мы заработаем в $5\\%$ лучших случаем к концу дня? \n",
    "\n",
    "__Важно:__ VaR и Es в этом пункте - отрицательные числа."
   ]
  },
  {
   "cell_type": "code",
   "execution_count": null,
   "metadata": {
    "deletable": false,
    "nbgrader": {
     "cell_type": "code",
     "checksum": "6234e92fd7ce9bde89c7c06b75a83346",
     "grade": false,
     "grade_id": "cell-03aa2e0de6ce9089",
     "locked": false,
     "schema_version": 3,
     "solution": true,
     "task": false
    }
   },
   "outputs": [],
   "source": [
    "### ╰( ͡° ͜ʖ ͡° )つ▬▬ι═══════  bzzzzzzzzzz\n",
    "# will the code be with you\n",
    "\n",
    "# Формат ответа: действительное число, пример: 0.073254\n",
    "var_tsla = ...   # VaR для Теслы\n",
    "es_tsla  = ...   # ES для теслы \n",
    "loss = ...       # Потеря от 1000$\n",
    "profit = ...     # Заработок от 1000$\n",
    "\n",
    "# your code here\n"
   ]
  },
  {
   "cell_type": "code",
   "execution_count": null,
   "metadata": {
    "deletable": false,
    "editable": false,
    "nbgrader": {
     "cell_type": "code",
     "checksum": "83c44ac7c2152eef90ab0396249fd7a3",
     "grade": true,
     "grade_id": "cell-f73305df3c114209",
     "locked": true,
     "points": 1,
     "schema_version": 3,
     "solution": false,
     "task": false
    }
   },
   "outputs": [],
   "source": [
    "# проверка, что задание решено корректно\n",
    "assert np.abs(es_tsla + 0.073254619) < 1e-5\n",
    "\n",
    "# Подобные тесты скрыты от вас"
   ]
  },
  {
   "cell_type": "markdown",
   "metadata": {},
   "source": [
    "## Какая метрика лучше? \n",
    "\n",
    "Никакая. Все рассуждения о риске – это попытки уложить функцию распределения доходностей в одно единственное число. Поэтому информация потеряется и все метрики будут не идеальны. А к чему это приведет, можно прочитать в книге Скотта Паттерсона \"Кванты. Как волшебники от математики заработали миллиарды и чуть не обрушили фондовый рынок.\" \n",
    "\n",
    "Тем не менее, какие-то цифры, на которые можно было бы ориентироваться при принятии решений необходимы. Из-за этого методы оценки риска продвинулись довольно сильно вперёд и ещё появятся в будущих домашних заданиях нашего курса. "
   ]
  },
  {
   "cell_type": "markdown",
   "metadata": {},
   "source": [
    "<center>\n",
    "<img src=\"memes01.png\" width=\"500\"> \n",
    "</center>"
   ]
  }
 ],
 "metadata": {
  "kernelspec": {
   "display_name": "Python 3",
   "language": "python",
   "name": "python3"
  },
  "language_info": {
   "codemirror_mode": {
    "name": "ipython",
    "version": 3
   },
   "file_extension": ".py",
   "mimetype": "text/x-python",
   "name": "python",
   "nbconvert_exporter": "python",
   "pygments_lexer": "ipython3",
   "version": "3.7.6"
  }
 },
 "nbformat": 4,
 "nbformat_minor": 2
}
